{
 "cells": [
  {
   "cell_type": "markdown",
   "metadata": {},
   "source": [
    "# Prérequis\n",
    "- Théorie des nombres\n",
    "- 2\n",
    "- 3"
   ]
  },
  {
   "cell_type": "markdown",
   "metadata": {},
   "source": [
    "En CTF, la cryptographie asymétrique est très souvent source de richesse pour l'originalité des challenges. Cependant, on remarque des attaques/logiques récurrentes quant il s'agit de cryptosystème très connu comme RSA."
   ]
  },
  {
   "cell_type": "markdown",
   "metadata": {},
   "source": [
    "# Rappel\n",
    "On rappelle l'implémentation la plus simple possible de RSA"
   ]
  },
  {
   "cell_type": "markdown",
   "metadata": {},
   "source": [
    "# Coppersmith est partout...\n",
    "L'un des principes fondamentaux que j'ai retenu en cryptographie est qu'il faut toujours essayer de voir les nombres comme des polynômes. Cette représentation est avantageuse car elle nous permet de nombreuses opérations pertinentes et source d'information sur les paramètres que l'on manipule.  \n",
    "\n",
    "\n",
    "Coppersmith a produit de nombreux papiers permettant (sous certaines conditions détaillées plus loin) d'obtenir des racines de polynômes univarié (à 1 variable) ou bivarié (à 2 variable) modulo un entier. \n",
    "\n",
    "\n",
    "La méthode utilise l'algorithme LLL qui consiste à trouver un lattice à base réduite en d'autres termes trouver un polynomial dont les coefficients sont plus petits.\n",
    "\n",
    "\n",
    "Voici l'énoncé du théorème donnant l'existence de cet algorithm :  \n",
    "**Théorème**:\n",
    "\n",
    "\n",
    "Soit $N$ un entier et $f \\in \\mathbb{Z}[x]$ un polynôme unitaire de degré d. On considère le nombre $X = N^{\\frac{1}{d} - \\epsilon}$ avec $\\frac{1}{d} > \\epsilon > 0$ avec ces paramètres un attaquant peut trouver tous les nombres $x_0 < X$ avec $f(x_0) \\equiv 0$ $(mod N)$\n",
    "\n",
    "Pour la suite des explications et des exemples, je m'inspire clairement de ce papier : https://www.cits.ruhr-uni-bochum.de/imperia/md/content/may/paper/intro_to_coppersmiths_method.pdf\n",
    "\n",
    "Si vous voulez creuser l'aspect mathématique, ce pdf est riche en information concernant cette méthode.\n",
    "\n",
    "Cette méthode fonctionne bien sur des système RSA à petits exposant car plus il est grand plus le lattice est grand.\n"
   ]
  },
  {
   "cell_type": "code",
   "execution_count": 9,
   "metadata": {},
   "outputs": [],
   "source": [
    "from Crypto.Util.number import *\n",
    "\n",
    "p = random_prime(2^1024-1)\n",
    "q = random_prime(2^1024-1)\n",
    "e = 3\n",
    "N = p*q\n",
    "message = \"MESSAGE\"\n",
    "message_encode = bytes_to_long(message.encode())"
   ]
  },
  {
   "cell_type": "code",
   "execution_count": 20,
   "metadata": {},
   "outputs": [
    {
     "name": "stdout",
     "output_type": "stream",
     "text": [
      "True\n",
      "b'MESSAGE'\n"
     ]
    }
   ],
   "source": [
    "P.<x> = PolynomialRing(Zmod(N))\n",
    "chiffre = message_encode**e%N\n",
    "\n",
    "epsilon = 1/13\n",
    "\n",
    "prec = 200  # precision in bits\n",
    "R = RealField(prec)\n",
    "X = R(N)^(1/e - epsilon)\n",
    "print(message_encode < X)\n",
    "f = x**e - chiffre\n",
    "\n",
    "racines = f.small_roots()\n",
    "print(long_to_bytes(int(racines[0])))\n",
    "\n"
   ]
  },
  {
   "cell_type": "code",
   "execution_count": null,
   "metadata": {},
   "outputs": [],
   "source": []
  }
 ],
 "metadata": {
  "kernelspec": {
   "display_name": "SageMath 9.3",
   "language": "sage",
   "name": "sagemath"
  },
  "language_info": {
   "codemirror_mode": {
    "name": "ipython",
    "version": 3
   },
   "file_extension": ".py",
   "mimetype": "text/x-python",
   "name": "python",
   "nbconvert_exporter": "python",
   "pygments_lexer": "ipython3",
   "version": "3.7.10"
  }
 },
 "nbformat": 4,
 "nbformat_minor": 4
}

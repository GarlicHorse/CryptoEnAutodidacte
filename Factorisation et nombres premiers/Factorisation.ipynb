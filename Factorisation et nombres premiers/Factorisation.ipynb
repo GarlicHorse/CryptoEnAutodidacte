{
 "cells": [
  {
   "cell_type": "markdown",
   "metadata": {},
   "source": []
  },
  {
   "cell_type": "markdown",
   "metadata": {},
   "source": [
    "# Factorisation par division successives"
   ]
  },
  {
   "cell_type": "code",
   "execution_count": null,
   "metadata": {},
   "outputs": [],
   "source": []
  },
  {
   "cell_type": "markdown",
   "metadata": {},
   "source": [
    "# Factorisation de Fermat"
   ]
  },
  {
   "cell_type": "markdown",
   "metadata": {},
   "source": [
    "Cette méthode de factorisation est simple. Elle repose sur l'assertion suivante : *Tout nombre impair positif peut être représenté par une différence de deux carrés*. Formellement, $\\forall n \\in \\mathbb{N}, n = 2k+1$ avec $k \\in \\mathbb{N}$ $\\exists(a,b)\\in \\mathbb{N}^{2}, n = a^2 - b^2$. On le prouve facilement et on obtient même la valeur de a et b par la même occasion.\n",
    "\n",
    "**Démonstration:**\n",
    "\n",
    "Soit $n = 2k+1$ avec $k \\in \\mathbb{N}$, on cherche n tel que $n = 2k+1 = a^2 - b^2 = (a+b)(a-b)$ alors $2k+1 = (a+b)(a-b)$ On peut facilement résoudre cette équation en posant $a+b = n$ et $a-b = 1$. En résolvant les équations, on trouve $a=\\frac{n+1}{2}$ et $b=\\frac{n-1}{2}$\n",
    "\n",
    "*Remarque: Si n est pair, il suffit alors de le diviser par 2 jusqu'à que le nombre obtenu soit pair pour appliquer l'algorithme de Fermat*\n",
    "\n",
    "\n"
   ]
  },
  {
   "cell_type": "code",
   "execution_count": 20,
   "metadata": {
    "scrolled": true
   },
   "outputs": [
    {
     "name": "stdout",
     "output_type": "stream",
     "text": [
      "62483\n"
     ]
    }
   ],
   "source": [
    "\n",
    "def factorisation_fermat(n):\n",
    "    t = ceil(sqrt(n))\n",
    "    c = t^2 - n\n",
    "    while not sqrt(c).is_integer():\n",
    "        c = c + 2*t +1\n",
    "        t+=1\n",
    "    return t + sqrt(c)\n",
    "\n",
    "print(factorisation_fermat(1312143))"
   ]
  },
  {
   "cell_type": "markdown",
   "metadata": {},
   "source": [
    "### Cas d'utilisation\n",
    "\n",
    "Vous pouvez utiliser cette algorithme pour factoriser un module RSA de grande taille comme N de taille 4096 bits. Si les nombres premiers utilisés sont trop proches, alors on peut facilement factoriser à l'aide "
   ]
  },
  {
   "cell_type": "code",
   "execution_count": 28,
   "metadata": {},
   "outputs": [
    {
     "name": "stdout",
     "output_type": "stream",
     "text": [
      "La différence entre p et q est 2144\n"
     ]
    }
   ],
   "source": [
    "p = random_prime(2^2048-1, True, 2^2047) # On génère un premier de 2048 bits\n",
    "q = p.next_prime() # On prend le premier juste après p, donc très proche de p\n",
    "print(\"La différence entre p et q est \" + str(q-p))"
   ]
  },
  {
   "cell_type": "code",
   "execution_count": 29,
   "metadata": {},
   "outputs": [
    {
     "name": "stdout",
     "output_type": "stream",
     "text": [
      "21486135885281578434829603849760256548777973233579681129980194900560912130907378155204951899379851293154237313827221759637238809179381900563583575332770793260552982860568918755349069053183842422040204258359659543939936405303363955547789435902618226896980180554934699264378690417243981413022041052686555762264828381971599382045144459162620662795042155486568290934464117539500109980233642207195989525084983533725836064198193976192711782701371912751922843473209877662735363438500340624871928207769125197032860558948372575325122306680289748790438495554288991398635715837138779911627211975125976498216277599145857585479463\n"
     ]
    }
   ],
   "source": [
    "N = p*q # On calcule le module RSA\n",
    "\n",
    "print(factorisation_fermat(n))"
   ]
  }
 ],
 "metadata": {
  "kernelspec": {
   "display_name": "SageMath 9.3",
   "language": "sage",
   "name": "sagemath"
  },
  "language_info": {
   "codemirror_mode": {
    "name": "ipython",
    "version": 3
   },
   "file_extension": ".py",
   "mimetype": "text/x-python",
   "name": "python",
   "nbconvert_exporter": "python",
   "pygments_lexer": "ipython3",
   "version": "3.7.10"
  }
 },
 "nbformat": 4,
 "nbformat_minor": 4
}

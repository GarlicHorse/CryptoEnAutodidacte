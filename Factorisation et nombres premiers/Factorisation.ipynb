{
 "cells": [
  {
   "cell_type": "markdown",
   "metadata": {
    "jp-MarkdownHeadingCollapsed": true,
    "tags": []
   },
   "source": [
    "# Factorisation par division successives"
   ]
  },
  {
   "cell_type": "markdown",
   "metadata": {},
   "source": [
    "La méthode la plus intuitive et simple de trouver les facteurs d'un nombre consiste à diviser successivement par une suite de nombres croissant. \n",
    "\n",
    "En complexité, on factorise complètement n en $O(\\sqrt{n})$. Pourquoi ? Le but est est de composer le nombre n en facteur premier ce qui implique \n",
    "\n"
   ]
  },
  {
   "cell_type": "code",
   "execution_count": 34,
   "metadata": {},
   "outputs": [
    {
     "name": "stdout",
     "output_type": "stream",
     "text": [
      "[(2, 3), (11, 1), (131, 1), (11382139, 1)]\n"
     ]
    }
   ],
   "source": [
    "def factorisation_par_division_successives(n):\n",
    "    if n < 2:\n",
    "        print(\"Je veux un nombre supérieur à 2\")\n",
    "        return\n",
    "    a = n\n",
    "    p = 2\n",
    "    L = []\n",
    "    while a > 1:\n",
    "        count = 0\n",
    "        while a % p == 0:\n",
    "            a = a // p\n",
    "            count += 1\n",
    "        if count > 0:\n",
    "            L.append((p, count))\n",
    "        p = next_prime(p)\n",
    "    return L\n",
    "n =131213298392\n",
    "\n",
    "print(factorisation_par_division_successives(n))"
   ]
  },
  {
   "cell_type": "markdown",
   "metadata": {
    "jp-MarkdownHeadingCollapsed": true,
    "tags": []
   },
   "source": [
    "# Factorisation de Fermat"
   ]
  },
  {
   "cell_type": "markdown",
   "metadata": {
    "tags": []
   },
   "source": [
    "Cette méthode de factorisation est simple. Elle repose sur l'assertion suivante : *Tout nombre impair positif peut être représenté par une différence de deux carrés*. Formellement, $\\forall n \\in \\mathbb{N}, n = 2k+1$ avec $k \\in \\mathbb{N}$ $\\exists(a,b)\\in \\mathbb{N}^{2}, n = a^2 - b^2$. On le prouve facilement et on obtient même la valeur de a et b par la même occasion.\n",
    "\n",
    "**Démonstration:**\n",
    "\n",
    "Soit $n = 2k+1$ avec $k \\in \\mathbb{N}$, on cherche n tel que $n = 2k+1 = a^2 - b^2 = (a+b)(a-b)$ alors $2k+1 = (a+b)(a-b)$ On peut facilement résoudre cette équation en posant $a+b = n$ et $a-b = 1$. En résolvant les équations, on trouve $a=\\frac{n+1}{2}$ et $b=\\frac{n-1}{2}$\n",
    "\n",
    "*Remarque: Si n est pair, il suffit alors de le diviser par 2 jusqu'à que le nombre obtenu soit pair pour appliquer l'algorithme de Fermat*\n",
    "\n",
    "L'idée de Fermat est de partir de $a^2 = \\lceil \\sqrt{n} \\rceil$, et d'augmenter t pour écrire $a^2 - n$ comme un carré car $a^2 - n = b^2$.\n",
    "\n",
    "Je m'étais posé une question pourrait paraître un peu naïve : Pourquoi $\\sqrt(n)$ ? Ma manière de la voir était grâce à l'inégalité des différentes moyennes usuelles. \n",
    "\n",
    "Soit $n = 2k+1$ avec $k \\in \\mathbb{N}$, on cherche $n$ tel que $n = 2k+1 = a^2 - b^2 = (a+b)(a-b)$ alors $2k+1 = (a+b)(a-b)$. On peut facilement résoudre cette équation en posant $a+b = n$ et $a-b = 1$. En résolvant les équations, on trouve $a=\\frac{n+1}{2}$ et $b=\\frac{n-1}{2}$.\n",
    "\n",
    "*Remarque: Si $n$ est pair, il suffit alors de le diviser par 2 jusqu'à que le nombre obtenu soit impair pour appliquer l'algorithme de Fermat*\n",
    "\n",
    "L'idée de Fermat est de partir de $a^2 = \\lceil \\sqrt{n} \\rceil$, et d'augmenter $t$ pour écrire $a^2 - n$ comme un carré car $a^2 - n = b^2$.\n",
    "\n",
    "Je m'étais posé une question qui pourrait paraître un peu naïve : Pourquoi $\\sqrt{n}$ ? Ma manière de le voir est grâce à l'inégalité des différentes moyennes usuelles.\n",
    "\n",
    "Pour tout ensemble de nombres réels non négatifs $a_1, a_2, \\ldots, a_N$ et pour tout ensemble de poids positifs $w_1, w_2, \\ldots, w_N$ tel que $w_1 + w_2 + \\ldots + w_N = 1$, les moyennes pondérées - harmonique $H$, géométrique $G$, arithmétique $A$, et quadratique $Q$ - satisfont l'inégalité suivante :\n",
    "\n",
    "$H \\leq G \\leq A$\n",
    "\n",
    "où\n",
    "\n",
    "- Moyenne Harmonique Pondérée: $H = \\left( \\frac{\\sum_{i=1}^N w_i}{\\sum_{i=1}^N \\frac{w_i}{a_i}} \\right)^{-1}$\n",
    "\n",
    "- Moyenne Géométrique Pondérée: $G = \\prod_{i=1}^N a_i^{w_i}$\n",
    "\n",
    "- Moyenne Arithmétique Pondérée: $A = \\sum_{i=1}^N w_i a_i$\n",
    "\n",
    "L'inégalité tient avec égalité uniquement si tous les $a_i$ sont égaux.\n",
    "\n",
    "\n",
    "Prenons l'exemple avec RSA où l'on souhaite factoriser $N = pq$ avec p et q deux nombres premiers.\n",
    "\n",
    "$$\\frac{2}{\\frac{1}{p} + \\frac{1}{q}} \\leq \\sqrt{pq} \\leq \\frac{p + q}{2}$$\n",
    "\n",
    "Ce qui nous intéresse est:\n",
    "\n",
    "$$\\sqrt{pq} \\leq \\frac{p + q}{2}$$\n",
    "$$\\sqrt{N} \\leq \\frac{p + q}{2}$$\n",
    "\n",
    "\n",
    "Supposons que $p \\leq q$,\n",
    "\n",
    "$$\\sqrt{N} \\leq \\frac{2p + d}{2}$$ avec $d = |p-q|$. Si p et q sont proches alors d est petit donc $2p + d \\approx 2p$.\n",
    "\n",
    "C'est pourquoi plus p et q sont proches, plus la factorisation de Fermat est rapide car le nombre d'itérations est faible.\n",
    "\n",
    "\n",
    "### Complexité\n",
    "\n",
    "Soit d le plus petit diviseur de N qui est plus grand que $\\sqrt(n)$. On définit le réel $\\alpha$ tel que $d = (1+\\alpha)\\sqrt{n}$, alors l'algorithme de Fermet converge en $O(1+\\frac{\\alpha^2}{1+\\alpha}\\sqrt{n})$.\n"
   ]
  },
  {
   "cell_type": "code",
   "execution_count": 4,
   "metadata": {
    "scrolled": true
   },
   "outputs": [
    {
     "name": "stdout",
     "output_type": "stream",
     "text": [
      "82\n"
     ]
    }
   ],
   "source": [
    "def factorisation_fermat(n):\n",
    "    a = ceil(sqrt(n))\n",
    "    b = a^2 - n\n",
    "    while not sqrt(b).is_integer():\n",
    "        b = b + 2*a +1\n",
    "        a+=1\n",
    "    return a + sqrt(b)\n",
    "\n",
    "\n",
    "print(factorisation_fermat(1312))\n"
   ]
  },
  {
   "cell_type": "markdown",
   "metadata": {},
   "source": [
    "### Cas d'utilisation\n",
    "\n",
    "Vous pouvez utiliser cette algorithme pour factoriser un module RSA de grande taille comme N de taille 4096 bits. Si les nombres premiers utilisés sont trop proches, alors on peut facilement factoriser à l'aide "
   ]
  },
  {
   "cell_type": "code",
   "execution_count": 6,
   "metadata": {},
   "outputs": [
    {
     "name": "stdout",
     "output_type": "stream",
     "text": [
      "La différence entre p et q est 770\n"
     ]
    }
   ],
   "source": [
    "p = random_prime(2^2048-1, True, 2^2047) # On génère un premier de 2048 bits\n",
    "q = p.next_prime() # On prend le premier juste après p, donc très proche de p\n",
    "print(\"La différence entre p et q est \" + str(q-p))"
   ]
  },
  {
   "cell_type": "code",
   "execution_count": 8,
   "metadata": {},
   "outputs": [
    {
     "name": "stdout",
     "output_type": "stream",
     "text": [
      "29363060629004009309766155022898744069783484677012238685875385007659983548552583170344617238987138691541757595185513215249840199697146289472486382162220403170406888528343209311620961529917952970864007765025266550834117497223359293931166907343088160532943179680486531864546151207725362908928212593421778181193211046208706961021274040453608272421443089058835832843649185144848732932970697632475566876181987031180274149912678196593279216001613108008229030277304856122953843813722435632254664336382781709758457907106329890862999916086594069334867058082276614816487911331517917897723563190260032937123204291626521273178049\n"
     ]
    }
   ],
   "source": [
    "n = p*q # On calcule le module RSA\n",
    "\n",
    "print(factorisation_fermat(n))"
   ]
  },
  {
   "cell_type": "markdown",
   "metadata": {},
   "source": [
    "# Méthode $\\rho$ de Pollard"
   ]
  },
  {
   "cell_type": "code",
   "execution_count": null,
   "metadata": {},
   "outputs": [],
   "source": []
  }
 ],
 "metadata": {
  "kernelspec": {
   "display_name": "SageMath 9.3",
   "language": "sage",
   "name": "sagemath"
  },
  "language_info": {
   "codemirror_mode": {
    "name": "ipython",
    "version": 3
   },
   "file_extension": ".py",
   "mimetype": "text/x-python",
   "name": "python",
   "nbconvert_exporter": "python",
   "pygments_lexer": "ipython3",
   "version": "3.7.10"
  }
 },
 "nbformat": 4,
 "nbformat_minor": 4
}

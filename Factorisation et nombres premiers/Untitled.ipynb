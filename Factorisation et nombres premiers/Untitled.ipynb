{
 "cells": [
  {
   "cell_type": "code",
   "execution_count": 16,
   "id": "9cc49ebd-eeb9-4f55-84d5-59b066db18fc",
   "metadata": {},
   "outputs": [
    {
     "name": "stdout",
     "output_type": "stream",
     "text": [
      "Defaulting to user installation because normal site-packages is not writeable\n",
      "Requirement already satisfied: qiskit in /home/garlichorse/.local/lib/python3.11/site-packages (0.45.2)\n",
      "Requirement already satisfied: qiskit-terra==0.45.2 in /home/garlichorse/.local/lib/python3.11/site-packages (from qiskit) (0.45.2)\n",
      "Requirement already satisfied: rustworkx>=0.13.0 in /home/garlichorse/.local/lib/python3.11/site-packages (from qiskit-terra==0.45.2->qiskit) (0.13.2)\n",
      "Requirement already satisfied: numpy<2,>=1.17 in /usr/lib/python3/dist-packages (from qiskit-terra==0.45.2->qiskit) (1.24.2)\n",
      "Requirement already satisfied: ply>=3.10 in /usr/lib/python3/dist-packages (from qiskit-terra==0.45.2->qiskit) (3.11)\n",
      "Requirement already satisfied: psutil>=5 in /usr/lib/python3/dist-packages (from qiskit-terra==0.45.2->qiskit) (5.9.4)\n",
      "Requirement already satisfied: scipy>=1.5 in /usr/lib/python3/dist-packages (from qiskit-terra==0.45.2->qiskit) (1.10.1)\n",
      "Requirement already satisfied: sympy>=1.3 in /usr/lib/python3/dist-packages (from qiskit-terra==0.45.2->qiskit) (1.11.1)\n",
      "Requirement already satisfied: dill>=0.3 in /home/garlichorse/.local/lib/python3.11/site-packages (from qiskit-terra==0.45.2->qiskit) (0.3.7)\n",
      "Requirement already satisfied: python-dateutil>=2.8.0 in /usr/lib/python3/dist-packages (from qiskit-terra==0.45.2->qiskit) (2.8.2)\n",
      "Requirement already satisfied: stevedore>=3.0.0 in /home/garlichorse/.local/lib/python3.11/site-packages (from qiskit-terra==0.45.2->qiskit) (5.1.0)\n",
      "Requirement already satisfied: symengine!=0.10.0,>=0.9 in /home/garlichorse/.local/lib/python3.11/site-packages (from qiskit-terra==0.45.2->qiskit) (0.11.0)\n",
      "Requirement already satisfied: pbr!=2.1.0,>=2.0.0 in /home/garlichorse/.local/lib/python3.11/site-packages (from stevedore>=3.0.0->qiskit-terra==0.45.2->qiskit) (6.0.0)\n"
     ]
    },
    {
     "ename": "ModuleNotFoundError",
     "evalue": "No module named 'qiskit'",
     "output_type": "error",
     "traceback": [
      "\u001b[0;31m---------------------------------------------------------------------------\u001b[0m",
      "\u001b[0;31mModuleNotFoundError\u001b[0m                       Traceback (most recent call last)",
      "Cell \u001b[0;32mIn[16], line 2\u001b[0m\n\u001b[1;32m      1\u001b[0m get_ipython()\u001b[38;5;241m.\u001b[39msystem(\u001b[38;5;124m'\u001b[39m\u001b[38;5;124mpip install qiskit\u001b[39m\u001b[38;5;124m'\u001b[39m)\n\u001b[0;32m----> 2\u001b[0m \u001b[38;5;28;01mimport\u001b[39;00m \u001b[38;5;21;01mqiskit\u001b[39;00m\n",
      "\u001b[0;31mModuleNotFoundError\u001b[0m: No module named 'qiskit'"
     ]
    }
   ],
   "source": [
    "!pip install qiskit\n",
    "import qiskit"
   ]
  },
  {
   "cell_type": "code",
   "execution_count": null,
   "id": "d211d093-4dc2-4eb8-aa6b-026bb810e6a4",
   "metadata": {},
   "outputs": [],
   "source": []
  }
 ],
 "metadata": {
  "kernelspec": {
   "display_name": "Python 3 (ipykernel)",
   "language": "python",
   "name": "python3"
  },
  "language_info": {
   "codemirror_mode": {
    "name": "ipython",
    "version": 3
   },
   "file_extension": ".py",
   "mimetype": "text/x-python",
   "name": "python",
   "nbconvert_exporter": "python",
   "pygments_lexer": "ipython3",
   "version": "3.10.9"
  }
 },
 "nbformat": 4,
 "nbformat_minor": 5
}

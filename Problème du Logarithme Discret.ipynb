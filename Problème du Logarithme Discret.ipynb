{
 "cells": [
  {
   "cell_type": "markdown",
   "metadata": {},
   "source": [
    "**Objectif**: Pour $y \\in \\mathbb{G},$ on cherche $x \\in \\mathbb{Z}/n\\mathbb{Z} $ tel que $g^x = y$."
   ]
  },
  {
   "cell_type": "markdown",
   "metadata": {},
   "source": [
    "# Algorithme de Shanks, \"Pas de bébé - pas de géant\""
   ]
  },
  {
   "cell_type": "markdown",
   "metadata": {},
   "source": [
    "L'algorithme de Shanks est l'un des premiers algorithmes étudiés pour résoudre le problème du logarithme discret (PLD). Il permet de faire un compromis entre temps et mémoire pour être meilleur que l'algorithme naïf par recherche exhaustive. La recherche exhaustive coûte $O(n)$ en temps. \n",
    "L'algorithme de Shanks lui, coûte $O(\\sqrt{q})$ en temps et en mémoire."
   ]
  },
  {
   "cell_type": "markdown",
   "metadata": {},
   "source": [
    "*Formulation du problème:*  \n",
    "\n",
    "\n",
    "On considère un groupe multiplicatif cyclique noté $\\mathbb{G}$ engendré par $g$ d'ordre connu q. On souhaite trouver pour un y donné, x tel que $g^x=y$.\n",
    "\n",
    "\n",
    "\n",
    "L'algorithme de Shanks repose sur cette formulation un peu différente du problème:\n",
    "\n",
    "On pose $T = \\lceil\\sqrt{q} \\rceil + 1$ et $ x = x_1T + x_0$ avec $ 0 \\leq x_0,x_1 < T$. Alors, $h(g^{-T})^{x_1} = hg^{-x_1T}=g^{x_0}$\n",
    "\n",
    "La dernière égalité nous intéresse car on peut maintenant calculer le terme de droite et stocker les valeurs obtenues puis calculer le membre de gauche afin de trouver une collision avec le premier ensemble. \n",
    "\n",
    "**De manière plus formelle :**\n",
    "- On stocke dans une table de hachage indexée par les éléments du groupes, les $g^i$ avec $ i \\in \\{0,...,T-1\\}$. On stockera donc plus précisément $(g^i,i)$. On appelle cette étape les \"baby steps\". La construction de cette table prend $T$ en temps.\n",
    "- On calcule à l'aide de l'exponentiation binaire le terme de droite qui est $h(g^{-T})^{j}$ pour $j \\in \\{0,..., T-1\\}$ et on regarde si une des ces valeurs est dans la table de hachage. Si c'est le cas alors $(i+Tj)$ est le logarithme discret de y en base g. Le calcul prend une complexité en temps de $2(\\lfloor log(q-T) \\rfloor)$ et la recherche linéaire prend $T$\n",
    "\n",
    "Au final la complexité en temps est de $2(T + \\lfloor log(q-T) \\rfloor) = O(T) = O(\\sqrt{q})$. De même, la complexité en mémoire est donnée par la table de hachage qui est de $O(\\sqrt{q})$."
   ]
  },
  {
   "cell_type": "code",
   "execution_count": 16,
   "metadata": {},
   "outputs": [
    {
     "name": "stdout",
     "output_type": "stream",
     "text": [
      "15\n",
      "1\n"
     ]
    }
   ],
   "source": [
    "def test_bsgs(y,g,q):\n",
    "    F_q = GF(q)\n",
    "    T = ceil(sqrt(q))+1\n",
    "    table_de_hachage = {y**i%q:i for i in range(0,T)}\n",
    "    for j in range(T):\n",
    "        tmp = y*g^(-T*j)%q\n",
    "        if tmp in table_de_hachage:\n",
    "            return table_de_hachage[tmp]+T*j%q\n",
    "    return None\n",
    "\n",
    "        \n",
    "g = 2 \n",
    "x = 5\n",
    "q = 17\n",
    "y = g^5%q\n",
    "print(y)\n",
    "print(test_bsgs(y,g,q))"
   ]
  },
  {
   "cell_type": "code",
   "execution_count": null,
   "metadata": {},
   "outputs": [],
   "source": []
  }
 ],
 "metadata": {
  "kernelspec": {
   "display_name": "SageMath 9.3",
   "language": "sage",
   "name": "sagemath"
  },
  "language_info": {
   "codemirror_mode": {
    "name": "ipython",
    "version": 3
   },
   "file_extension": ".py",
   "mimetype": "text/x-python",
   "name": "python",
   "nbconvert_exporter": "python",
   "pygments_lexer": "ipython3",
   "version": "3.7.10"
  }
 },
 "nbformat": 4,
 "nbformat_minor": 4
}

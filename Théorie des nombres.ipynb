{
 "cells": [
  {
   "cell_type": "markdown",
   "metadata": {},
   "source": [
    "Le but de ce notebook est d'introduire les notions fondamentales en Mathématiques pour aborder la cryptographie de manière plutôt formelle. Je vais définir de nombreuses notations."
   ]
  },
  {
   "cell_type": "code",
   "execution_count": null,
   "metadata": {},
   "outputs": [],
   "source": [
    "\"\"\"\n",
    "Divisibilité et nombres premiers :\n",
    "\n",
    "Notions de divisibilité, facteurs, multiples.\n",
    "Nombres premiers : définition, identification, tests de primalité (méthodes naïves et avancées comme le test de Miller-Rabin).\n",
    "Théorème fondamental de l'arithmétique (décomposition en facteurs premiers).\n",
    "Lemme d'Euclide et théorèmes liés aux nombres premiers.\n",
    "Arithmétique modulaire :\n",
    "\n",
    "Congruences et classes de congruence.\n",
    "Opérations arithmétiques modulo \n",
    "�\n",
    "n : addition, soustraction, multiplication.\n",
    "Inverses modulaires et leur calcul (par exemple, l'algorithme d'Euclide étendu).\n",
    "Théorème de Fermat et petit théorème de Fermat.\n",
    "Théorème d'Euler et fonction indicatrice d'Euler (phi).\n",
    "Algorithmes et complexité :\n",
    "\n",
    "Algorithmes de calcul de GCD (le plus grand diviseur commun), notamment l'algorithme d'Euclide.\n",
    "Complexité algorithmique, en particulier pour les opérations de la théorie des nombres.\n",
    "Résidus quadratiques et loi de réciprocité quadratique :\n",
    "\n",
    "Définition et propriétés des résidus quadratiques.\n",
    "La loi de réciprocité quadratique, qui est importante dans certains algorithmes cryptographiques.\n",
    "Groupes, anneaux et corps en théorie des nombres :\n",
    "\n",
    "Structures algébriques de base et leur application en cryptographie.\n",
    "Groupes cycliques et leur rôle en cryptographie, comme dans les algorithmes de cryptographie à clé publique.\n",
    "Cryptographie basée sur la théorie des nombres :\n",
    "\n",
    "Principe de fonctionnement des algorithmes de cryptographie asymétrique comme RSA, Diffie-Hellman, ECC (Elliptic Curve Cryptography).\n",
    "Importance de la factorisation des grands nombres et du logarithme discret dans la sécurité de ces systèmes.\n",
    "Problèmes difficiles en théorie des nombres :\n",
    "\n",
    "Problème du logarithme discret.\n",
    "Problème de la factorisation des entiers.\n",
    "Problèmes en lien avec les courbes elliptiques (pour ECC).\n",
    "Applications en cryptographie quantique (si pertinent) :\n",
    "\n",
    "Comment la cryptographie quantique pourrait impacter la sécurité des systèmes basés sur la théorie des nombres.\n",
    "\n",
    "\n",
    "\"\"\""
   ]
  },
  {
   "cell_type": "code",
   "execution_count": null,
   "metadata": {},
   "outputs": [],
   "source": []
  }
 ],
 "metadata": {
  "kernelspec": {
   "display_name": "SageMath 9.3",
   "language": "sage",
   "name": "sagemath"
  },
  "language_info": {
   "codemirror_mode": {
    "name": "ipython",
    "version": 3
   },
   "file_extension": ".py",
   "mimetype": "text/x-python",
   "name": "python",
   "nbconvert_exporter": "python",
   "pygments_lexer": "ipython3",
   "version": "3.7.10"
  }
 },
 "nbformat": 4,
 "nbformat_minor": 4
}
